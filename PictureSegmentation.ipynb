{
 "cells": [
  {
   "cell_type": "markdown",
   "metadata": {},
   "source": [
    "## Idea:\n",
    "\n",
    "With so much pictures to go through, try basic photographic data (ISO, aperture, ExposureTime, FocusLength, ShutterSpeed, maybe also White Balance Information to perform sorting and then check if it is useful enough)"
   ]
  },
  {
   "cell_type": "code",
   "execution_count": 35,
   "metadata": {},
   "outputs": [],
   "source": [
    "import pandas as pd\n",
    "import numpy as np\n",
    "import os\n",
    "import string\n",
    "import datetime\n",
    "from datetime import timezone\n",
    "os.getcwd()\n",
    "import glob\n",
    "import pytz\n",
    "import seaborn as sns\n",
    "import re"
   ]
  },
  {
   "cell_type": "code",
   "execution_count": 36,
   "metadata": {},
   "outputs": [
    {
     "name": "stderr",
     "output_type": "stream",
     "text": [
      "/opt/anaconda3/lib/python3.8/site-packages/IPython/core/interactiveshell.py:3146: DtypeWarning: Columns (11) have mixed types.Specify dtype option on import or set low_memory=False.\n",
      "  has_raised = await self.run_ast_nodes(code_ast.body, cell_name,\n"
     ]
    }
   ],
   "source": [
    "df = pd.read_csv(\"pictureData/PhotoEXIFDataStripped_2006_2020_CorrectDates_New.csv\")\n",
    "df=df.drop(columns=['Unnamed: 0'])"
   ]
  },
  {
   "cell_type": "code",
   "execution_count": 38,
   "metadata": {},
   "outputs": [
    {
     "data": {
      "text/plain": [
       "array([3.3, 4.0, 5.6, 5.0, 2.8, 3.2, 3.1, 4.5, 3.5, 3.7, 2.9, 3.0, 3.4,\n",
       "       8.0, 6.3, 7.1, 2.0, 3.6, nan, 5.9, 6.4, 2.4, 10.0, 13.0, 9.0, 11.0,\n",
       "       16.0, 14.0, 22.0, 20.0, 18.0, 4.9, 3.9, 4.2, 2.5, 2.2, '2.0',\n",
       "       '7.1', '8.0', '3.5', '5.0', '4.0', '5.6', '4.5', '9.0', '2.5',\n",
       "       '2.2', '3.2', '11.0', '10.0', '2.8', '6.3', '13.0', '16.0', '14.0',\n",
       "       '5.9', 'undef', '2.6', '3.3', '5.8', '6.4', '22.0', '20.0', '29.0',\n",
       "       '6.1', '36.0', '18.0', '32.0', '25.0', '6.9', '3.4', '3.6', '1.8',\n",
       "       '2.7', '1.6', '1.9', '2.4', 5.2, 1.7, 5.3, 5.4, 4.7, 5.1, 5.5, 4.6,\n",
       "       4.1, 4.4, 4.3, 6.0, 3.8, 6.1, 4.8], dtype=object)"
      ]
     },
     "execution_count": 38,
     "metadata": {},
     "output_type": "execute_result"
    }
   ],
   "source": [
    "df['FNumber'].unique()"
   ]
  },
  {
   "cell_type": "code",
   "execution_count": 37,
   "metadata": {},
   "outputs": [
    {
     "name": "stdout",
     "output_type": "stream",
     "text": [
      "SourceFile object 0\n",
      "Aperture float64 1859\n",
      "BitsPerSample float64 0\n",
      "ColorSpace object 28\n",
      "Contrast object 10667\n",
      "CreateDate object 24\n",
      "Date object 24\n",
      "ExposureTime float64 1755\n",
      "FileName object 0\n",
      "Flash object 1755\n",
      "FNumber object 1755\n",
      "FocalLength in mm float64 1755\n",
      "FocalLength35efl object 1755\n",
      "ImageSize object 0\n",
      "ImageWidth float64 0\n",
      "ISO float64 1861\n",
      "LightValue float64 1861\n",
      "Model object 130\n",
      "Orientation object 1520\n",
      "Quality object 15728\n",
      "ShutterSpeed float64 5463\n",
      "WhiteBalance object 1755\n",
      "Place object 0\n",
      "year int64 0\n",
      "dayperiod int64 0\n",
      "CompositePhoto int64 0\n",
      "Movie int64 0\n",
      "ApertureValue float64 20445\n",
      "BlueBalance float64 32118\n",
      "ColorTempAsShot float64 32453\n",
      "FlashActivity float64 32172\n",
      "ShutterSpeedValue float64 21151\n",
      "WB_RGGBLevelsAsShot object 32453\n",
      "Country object 0\n",
      "Day object 713\n"
     ]
    }
   ],
   "source": [
    "for col in df.columns:\n",
    "    print(col,df[col].dtype,df[col].isna().sum())"
   ]
  },
  {
   "cell_type": "code",
   "execution_count": 34,
   "metadata": {},
   "outputs": [
    {
     "data": {
      "text/html": [
       "<div>\n",
       "<style scoped>\n",
       "    .dataframe tbody tr th:only-of-type {\n",
       "        vertical-align: middle;\n",
       "    }\n",
       "\n",
       "    .dataframe tbody tr th {\n",
       "        vertical-align: top;\n",
       "    }\n",
       "\n",
       "    .dataframe thead th {\n",
       "        text-align: right;\n",
       "    }\n",
       "</style>\n",
       "<table border=\"1\" class=\"dataframe\">\n",
       "  <thead>\n",
       "    <tr style=\"text-align: right;\">\n",
       "      <th></th>\n",
       "      <th>Aperture</th>\n",
       "      <th>WhiteBalance</th>\n",
       "      <th>WB_RGGBLevelsAsShot</th>\n",
       "    </tr>\n",
       "  </thead>\n",
       "  <tbody>\n",
       "    <tr>\n",
       "      <th>0</th>\n",
       "      <td>3.3</td>\n",
       "      <td>Auto</td>\n",
       "      <td>NaN</td>\n",
       "    </tr>\n",
       "    <tr>\n",
       "      <th>71140</th>\n",
       "      <td>5.6</td>\n",
       "      <td>Auto</td>\n",
       "      <td>1889 1024 1024 1683</td>\n",
       "    </tr>\n",
       "    <tr>\n",
       "      <th>71139</th>\n",
       "      <td>4.5</td>\n",
       "      <td>Auto</td>\n",
       "      <td>1509 1024 1024 2383</td>\n",
       "    </tr>\n",
       "    <tr>\n",
       "      <th>71138</th>\n",
       "      <td>4.0</td>\n",
       "      <td>Auto</td>\n",
       "      <td>1417 1024 1024 2433</td>\n",
       "    </tr>\n",
       "    <tr>\n",
       "      <th>71137</th>\n",
       "      <td>3.5</td>\n",
       "      <td>Auto</td>\n",
       "      <td>1502 1024 1024 2203</td>\n",
       "    </tr>\n",
       "    <tr>\n",
       "      <th>...</th>\n",
       "      <td>...</td>\n",
       "      <td>...</td>\n",
       "      <td>...</td>\n",
       "    </tr>\n",
       "    <tr>\n",
       "      <th>24184</th>\n",
       "      <td>3.5</td>\n",
       "      <td>Tungsten</td>\n",
       "      <td>1544 1024 1024 2351</td>\n",
       "    </tr>\n",
       "    <tr>\n",
       "      <th>24183</th>\n",
       "      <td>3.5</td>\n",
       "      <td>Tungsten</td>\n",
       "      <td>1544 1024 1024 2351</td>\n",
       "    </tr>\n",
       "    <tr>\n",
       "      <th>24182</th>\n",
       "      <td>3.5</td>\n",
       "      <td>Tungsten</td>\n",
       "      <td>1544 1024 1024 2351</td>\n",
       "    </tr>\n",
       "    <tr>\n",
       "      <th>24196</th>\n",
       "      <td>4.5</td>\n",
       "      <td>Tungsten</td>\n",
       "      <td>1544 1024 1024 2351</td>\n",
       "    </tr>\n",
       "    <tr>\n",
       "      <th>25013</th>\n",
       "      <td>3.5</td>\n",
       "      <td>Tungsten</td>\n",
       "      <td>1544 1024 1024 2351</td>\n",
       "    </tr>\n",
       "  </tbody>\n",
       "</table>\n",
       "<p>86593 rows × 3 columns</p>\n",
       "</div>"
      ],
      "text/plain": [
       "       Aperture WhiteBalance  WB_RGGBLevelsAsShot\n",
       "0           3.3         Auto                  NaN\n",
       "71140       5.6         Auto  1889 1024 1024 1683\n",
       "71139       4.5         Auto  1509 1024 1024 2383\n",
       "71138       4.0         Auto  1417 1024 1024 2433\n",
       "71137       3.5         Auto  1502 1024 1024 2203\n",
       "...         ...          ...                  ...\n",
       "24184       3.5     Tungsten  1544 1024 1024 2351\n",
       "24183       3.5     Tungsten  1544 1024 1024 2351\n",
       "24182       3.5     Tungsten  1544 1024 1024 2351\n",
       "24196       4.5     Tungsten  1544 1024 1024 2351\n",
       "25013       3.5     Tungsten  1544 1024 1024 2351\n",
       "\n",
       "[86593 rows x 3 columns]"
      ]
     },
     "execution_count": 34,
     "metadata": {},
     "output_type": "execute_result"
    }
   ],
   "source": [
    "df[df['Quality'].notna()][['Aperture','WhiteBalance','WB_RGGBLevelsAsShot']].sort_values(by=['WhiteBalance'])"
   ]
  },
  {
   "cell_type": "code",
   "execution_count": null,
   "metadata": {},
   "outputs": [],
   "source": []
  }
 ],
 "metadata": {
  "kernelspec": {
   "display_name": "Python 3",
   "language": "python",
   "name": "python3"
  },
  "language_info": {
   "codemirror_mode": {
    "name": "ipython",
    "version": 3
   },
   "file_extension": ".py",
   "mimetype": "text/x-python",
   "name": "python",
   "nbconvert_exporter": "python",
   "pygments_lexer": "ipython3",
   "version": "3.8.5"
  }
 },
 "nbformat": 4,
 "nbformat_minor": 4
}
