{
 "cells": [
  {
   "cell_type": "markdown",
   "metadata": {},
   "source": [
    "Consider two tasks: check if running shoes from RunPro 3000 do make a difference (50-50 means as total average the shoes should be normalised, to be checked if that is also true per attribute).\n",
    "\n",
    "Attributes are the following:\n",
    "* age group\n",
    "* country\n",
    "* male or female\n",
    "\n",
    "Second task: try to predict the finishing time of the Marathon as part of the attributes.\n",
    "\n",
    "So technically task 1 is a classification problem, task 2 is a regression problem"
   ]
  },
  {
   "cell_type": "code",
   "execution_count": null,
   "metadata": {},
   "outputs": [],
   "source": []
  },
  {
   "cell_type": "code",
   "execution_count": null,
   "metadata": {},
   "outputs": [],
   "source": []
  }
 ],
 "metadata": {
  "kernelspec": {
   "display_name": "Python 3",
   "language": "python",
   "name": "python3"
  },
  "language_info": {
   "codemirror_mode": {
    "name": "ipython",
    "version": 3
   },
   "file_extension": ".py",
   "mimetype": "text/x-python",
   "name": "python",
   "nbconvert_exporter": "python",
   "pygments_lexer": "ipython3",
   "version": "3.7.4"
  }
 },
 "nbformat": 4,
 "nbformat_minor": 2
}
