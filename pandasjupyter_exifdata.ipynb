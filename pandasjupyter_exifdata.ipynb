{
 "cells": [
  {
   "cell_type": "code",
   "execution_count": 12,
   "metadata": {},
   "outputs": [],
   "source": [
    "import pandas as pd\n",
    "import numpy as np\n",
    "import os\n",
    "import string\n",
    "import datetime\n",
    "os.getcwd()\n",
    "import glob\n",
    "\n"
   ]
  },
  {
   "cell_type": "code",
   "execution_count": 5,
   "metadata": {},
   "outputs": [],
   "source": [
    "def convert_mm(value):\n",
    "    #length in mm transformed to float\n",
    "    try:\n",
    "        new_value = value.replace(' mm','')\n",
    "        return float(new_value)    \n",
    "    except AttributeError:\n",
    "        return np.NaN"
   ]
  },
  {
   "cell_type": "code",
   "execution_count": 6,
   "metadata": {},
   "outputs": [],
   "source": [
    "def convert_exposure(value):\n",
    "    #length in mm transformed to float\n",
    "    try:\n",
    "        list_string=value.split('/')\n",
    "        if (len(list_string)==1):\n",
    "            return float(value)\n",
    "        else:\n",
    "            return float(list_string[0])/float(list_string[1])\n",
    "    except AttributeError:\n",
    "        #print ('WTF',value)\n",
    "        return np.NaN\n",
    "    #return float(0)\n",
    "        "
   ]
  },
  {
   "cell_type": "code",
   "execution_count": 7,
   "metadata": {},
   "outputs": [],
   "source": [
    "def remove_full_path(value):\n",
    "    #all pictures originate from a Pictures folder, remove the full path\n",
    "    #including Pictures\n",
    "    try:\n",
    "        list_string=value.split('/Pictures')\n",
    "        return list_string[1]\n",
    "    except AttributeError:\n",
    "        return np.NaN"
   ]
  },
  {
   "cell_type": "code",
   "execution_count": 8,
   "metadata": {},
   "outputs": [],
   "source": [
    "def funcDayPeriod(filename):\n",
    "    search_night=[\"bei Nacht\",'Sternenhimmel',\"Mondschein\",\"Mond\",\"Ice and Snow/\"]\n",
    "    search_night_special=[\"Lumiere\",\"euerwerk\",\"Firework\",\"Freudenfeuer\"]\n",
    "    search_twilight=[\"bei anbrechender Nacht\",\"Abenddaemmerung\",\"Morgendaemmerung\",\"Sonnenaufgang\"]\n",
    "    if any (x in filename for x in search_night):\n",
    "        return -1\n",
    "    elif any(x in filename for x in search_night_special):\n",
    "         return 0\n",
    "    elif any(x in filename for x in search_twilight):\n",
    "        return 3\n",
    "    elif \"bei Sonnenuntergang\" in filename:\n",
    "        return 2\n",
    "    else:\n",
    "        return 1"
   ]
  },
  {
   "cell_type": "code",
   "execution_count": 9,
   "metadata": {},
   "outputs": [],
   "source": [
    "def funcComposite(filename):\n",
    "    if \"Panorama.\" in filename:\n",
    "        return 1\n",
    "    else:\n",
    "        return 0"
   ]
  },
  {
   "cell_type": "code",
   "execution_count": 10,
   "metadata": {},
   "outputs": [],
   "source": [
    "def funcMovie(filename):\n",
    "    search_file_names=[\".JPG\",\".jpg\",\".JPEG\",\".jpeg\"]\n",
    "    if any(x in filename for x in search_file_names):\n",
    "        return 0\n",
    "    else:\n",
    "        return 1"
   ]
  },
  {
   "cell_type": "code",
   "execution_count": 11,
   "metadata": {},
   "outputs": [],
   "source": [
    "def funcTimeZoneCorrectionNYCBias(value,filename,modelname,data_min,data_max):\n",
    "    try:\n",
    "        if value=='0000:00:00 00:00:00' or value=='missing':\n",
    "            return np.NaN\n",
    "        else:\n",
    "            #date example: Dec 09 Sat ,2006, 17:12:27\n",
    "            #abrMonth day(number zero-padded) day(abbr name),year, hour(24):minute:second\n",
    "            #date is ordered by \n",
    "            date_orig = datetime.strptime(value,\"%b %d %a ,%Y, %H:%M:%S\") \n",
    "            date = datetime.strptime(value,\"%b %d %a ,%Y, %H:%M:%S\") \n",
    "            datemin = datetime.strptime(data_min,\"%b %d %a ,%Y, %H:%M:%S\") \n",
    "            datemax = datetime.strptime(data_max,\"%b %d %a ,%Y, %H:%M:%S\") \n",
    "            if modelname==\"SP500UZ\":\n",
    "                if(date>datemin and date<datemax):\n",
    "                #never changed timezone after getting back from NYC, all messed up\n",
    "                    date=date+timedelta(hours=6)\n",
    "                    #print('date before',date_orig,'date after',date)\n",
    "            return date.strftime(\"%b %d %a ,%Y, %H:%M:%S\")\n",
    "    except AttributeError:\n",
    "        return np.NaN"
   ]
  },
  {
   "cell_type": "code",
   "execution_count": 14,
   "metadata": {},
   "outputs": [],
   "source": [
    "def funcTimeZoneCorrection(value,filename,modelname):\n",
    "    try:\n",
    "        if value=='0000:00:00 00:00:00' or value=='missing':\n",
    "            return np.NaN\n",
    "        else:\n",
    "            #date example: Dec 09 Sat ,2006, 17:12:27\n",
    "            #abrMonth day(number zero-padded) day(abbr name),year, hour(24):minute:second\n",
    "            date = datetime.strptime(value,\"%b %d %a ,%Y, %H:%M:%S\") \n",
    "            search_names_NYC_time_zone=[\"- Philadelphia,\",\"New York City,\",\"Newark,\",\"Washington Airport\"]\n",
    "            search_names_London_time_zone_CANON600D=[\"Dublin & Nordirland/P\",\"120830-120909 - Portugal/\",\"Suedengland/\",\"141212-141214 - London/\",\"Greater London\"]\n",
    "            search_names_Istanbul_time_zone_CANON600D=[\"41023-141027 - Istanbul/\",\"150828-150912 Sankt Petersburg/\"]\n",
    "            search_names_pacific_time_zone_CANON600D=[\"150613 - Los Angeles/\",\"USA/P818\",\" - Grand Canyon Village, \",\" - Boulder City, \",\" - Las Vegas, \"]\n",
    "            search_names_China_time_zone_CANON80D=[\"180101 China/\",\"/171230 Shanghai\",\" - China, \"]\n",
    "            search_names_EastEurope_time_zone_CANON80D=[\"170603 Athen/\",\"171006 Tallinn \",\"/170414 Kiev\",\" - Tuerkei, \",\" - Irak, \",\" - Kuwait\",\" - Qatar, \"]\n",
    "            search_names_London_time_zone_CANON80D=[\" - Saudi-Arabien,\",\"/190413-190417 Suedostengland/\",\" - United Kingdom - \",\"/171110 Marrakesch/\",\"170915 London/P\",\"/180602 UK/\"]\n",
    "            search_names_Iceland_time_zone_CANON80D=[\" - Island, \",\"/180328 Island/\"]\n",
    "            search_names_Gulf_time_zone_CANON80D=[\" - Island, \",\" - Dubai, \"]\n",
    "            search_names_Pakistan_time_zone_CANON80D=[\" - Pakistan, \"]\n",
    "            search_names_Korea_time_zone_CANON80D=[\" - Paju, \",\" - Suwon, \",\" - Seoul, \",\" - Busan,\",\" - Incheon, \",\" - Gyeongju, \",\" - Gwanju, \"]\n",
    "            if modelname==\"SP500UZ\":\n",
    "                #no change of default time, thus London time is an hour too late\n",
    "                if \"London/P\" in filename:\n",
    "                    date = datetime.strptime(value,\"%b %d %a ,%Y, %H:%M:%S\")  \n",
    "                    date=date-timedelta(hours=1)\n",
    "                    return date.strftime(\"%b %d %a ,%Y, %H:%M:%S\")\n",
    "                elif any(x in filename for x in search_names_NYC_time_zone):\n",
    "                    date = datetime.strptime(value,\"%b %d %a ,%Y, %H:%M:%S\")  \n",
    "                    date=date-timedelta(hours=6)\n",
    "                    return date.strftime(\"%b %d %a ,%Y, %H:%M:%S\")\n",
    "                elif \" Chicago - Edit2012/P\" in filename:\n",
    "                    date = datetime.strptime(value,\"%b %d %a ,%Y, %H:%M:%S\")  \n",
    "                    date=date-timedelta(hours=7)\n",
    "                    return date.strftime(\"%b %d %a ,%Y, %H:%M:%S\")      \n",
    "                else:\n",
    "                    return value;\n",
    "            if modelname==\"Canon EOS 600D\":\n",
    "                #all of EOS600D done including 2015\n",
    "                if any(x in filename for x in search_names_London_time_zone_CANON600D):\n",
    "                    date = datetime.strptime(value,\"%b %d %a ,%Y, %H:%M:%S\")  \n",
    "                    date=date-timedelta(hours=1)\n",
    "                    return date.strftime(\"%b %d %a ,%Y, %H:%M:%S\")\n",
    "                elif any(x in filename for x in search_names_Istanbul_time_zone_CANON600D):\n",
    "                    date=date+timedelta(hours=1)\n",
    "                    date = datetime.strptime(value,\"%b %d %a ,%Y, %H:%M:%S\")  \n",
    "                    return date.strftime(\"%b %d %a ,%Y, %H:%M:%S\")\n",
    "                elif any(x in filename for x in search_names_pacific_time_zone_CANON600D):\n",
    "                    date = datetime.strptime(value,\"%b %d %a ,%Y, %H:%M:%S\")  \n",
    "                    date=date-timedelta(hours=9)\n",
    "                    return date.strftime(\"%b %d %a ,%Y, %H:%M:%S\")\n",
    "                elif \"- Chicago, \" in filename:\n",
    "                    date = datetime.strptime(value,\"%b %d %a ,%Y, %H:%M:%S\")  \n",
    "                    date=date-timedelta(hours=7)\n",
    "                    return date.strftime(\"%b %d %a ,%Y, %H:%M:%S\")\n",
    "                elif \" - Washington D.C., \" in filename:\n",
    "                    date = datetime.strptime(value,\"%b %d %a ,%Y, %H:%M:%S\")  \n",
    "                    date=date-timedelta(hours=6)\n",
    "                    return date.strftime(\"%b %d %a ,%Y, %H:%M:%S\")\n",
    "                elif \"/160813 - USA/\" in filename:\n",
    "                    #remaining 2016 US trip times\n",
    "                    date = datetime.strptime(value,\"%b %d %a ,%Y, %H:%M:%S\")  \n",
    "                    date=date-timedelta(hours=8)\n",
    "                    return date.strftime(\"%b %d %a ,%Y, %H:%M:%S\")\n",
    "                elif \"161205 - Japan/\" in filename:\n",
    "                    date = datetime.strptime(value,\"%b %d %a ,%Y, %H:%M:%S\")  \n",
    "                    date=date+timedelta(hours=7)\n",
    "                    return date.strftime(\"%b %d %a ,%Y, %H:%M:%S\")\n",
    "                else:\n",
    "                    #change to default summer time\n",
    "                    date = datetime.strptime(value,\"%b %d %a ,%Y, %H:%M:%S\")  \n",
    "                    return date.strftime(\"%b %d %a ,%Y, %H:%M:%S\")\n",
    "            if modelname==\"Canon PowerShot S110\":  \n",
    "                 #all running on summer time\n",
    "                if any(x in filename for x in search_names_London_time_zone_CANON600D):\n",
    "                    date = datetime.strptime(value,\"%b %d %a ,%Y, %H:%M:%S\")  \n",
    "                    date=date-timedelta(hours=2)\n",
    "                    return date.strftime(\"%b %d %a ,%Y, %H:%M:%S\")\n",
    "                elif \"41023-141027 - Istanbul/\" in filename:\n",
    "                    #for Istanbul timezone was not aligned with CANON EOS600D\n",
    "                    date = datetime.strptime(value,\"%b %d %a ,%Y, %H:%M:%S\")  \n",
    "                    date=date-timedelta(hours=1)\n",
    "                    return date.strftime(\"%b %d %a ,%Y, %H:%M:%S\")\n",
    "                elif \"150613 - Los Angeles/\" in filename:\n",
    "                    date = datetime.strptime(value,\"%b %d %a ,%Y, %H:%M:%S\")  \n",
    "                    date=date-timedelta(hours=10)\n",
    "                    return date.strftime(\"%b %d %a ,%Y, %H:%M:%S\")\n",
    "                elif \"/2016/\" in filename:\n",
    "                    if \"161205 - Japan/\" in filename:\n",
    "                        date = datetime.strptime(value,\"%b %d %a ,%Y, %H:%M:%S\")  \n",
    "                        date=date+timedelta(hours=6)\n",
    "                        return date.strftime(\"%b %d %a ,%Y, %H:%M:%S\")\n",
    "                    else:\n",
    "                        #change to default summer time\n",
    "                        date = datetime.strptime(value,\"%b %d %a ,%Y, %H:%M:%S\")  \n",
    "                        date=date-timedelta(hours=1)\n",
    "                        return date.strftime(\"%b %d %a ,%Y, %H:%M:%S\")\n",
    "                else:\n",
    "                    #change to default summer time\n",
    "                    date = datetime.strptime(value,\"%b %d %a ,%Y, %H:%M:%S\")  \n",
    "                    date=date-timedelta(hours=1)\n",
    "                    return date.strftime(\"%b %d %a ,%Y, %H:%M:%S\")\n",
    "            if modelname==\"Canon EOS 80D\":\n",
    "                if any(x in filename for x in search_names_China_time_zone_CANON80D):\n",
    "                    date = datetime.strptime(value,\"%b %d %a ,%Y, %H:%M:%S\")  \n",
    "                    date=date+timedelta(hours=6)\n",
    "                    return date.strftime(\"%b %d %a ,%Y, %H:%M:%S\")\n",
    "                elif any(x in filename for x in search_names_EastEurope_time_zone_CANON80D):\n",
    "                    date = datetime.strptime(value,\"%b %d %a ,%Y, %H:%M:%S\")  \n",
    "                    date=date+timedelta(hours=1)\n",
    "                    return date.strftime(\"%b %d %a ,%Y, %H:%M:%S\")\n",
    "                elif any(x in filename for x in search_names_London_time_zone_CANON80D):\n",
    "                    date = datetime.strptime(value,\"%b %d %a ,%Y, %H:%M:%S\")  \n",
    "                    date=date-timedelta(hours=1)\n",
    "                    return date.strftime(\"%b %d %a ,%Y, %H:%M:%S\")\n",
    "                elif \" - Groenland\" in filename:\n",
    "                    date = datetime.strptime(value,\"%b %d %a ,%Y, %H:%M:%S\")  \n",
    "                    date=date-timedelta(hours=4)\n",
    "                    return date.strftime(\"%b %d %a ,%Y, %H:%M:%S\") \n",
    "                elif any (x in filename for x in search_names_Iceland_time_zone_CANON80D):\n",
    "                    date = datetime.strptime(value,\"%b %d %a ,%Y, %H:%M:%S\")  \n",
    "                    date=date-timedelta(hours=2)\n",
    "                    return date.strftime(\"%b %d %a ,%Y, %H:%M:%S\") \n",
    "                elif \"/170609 USA/\" in filename:\n",
    "                    date = datetime.strptime(value,\"%b %d %a ,%Y, %H:%M:%S\")  \n",
    "                    date=date-timedelta(hours=8)\n",
    "                    return date.strftime(\"%b %d %a ,%Y, %H:%M:%S\")  \n",
    "                elif any(x in filename for x in search_names_Gulf_time_zone_CANON80D):\n",
    "                    date = datetime.strptime(value,\"%b %d %a ,%Y, %H:%M:%S\")  \n",
    "                    date=date+timedelta(hours=2)\n",
    "                    return date.strftime(\"%b %d %a ,%Y, %H:%M:%S\")\n",
    "                elif any(x in filename for x in search_names_Pakistan_time_zone_CANON80D):\n",
    "                    date = datetime.strptime(value,\"%b %d %a ,%Y, %H:%M:%S\")  \n",
    "                    date=date+timedelta(hours=3)\n",
    "                    return date.strftime(\"%b %d %a ,%Y, %H:%M:%S\")\n",
    "                elif any(x in filename for x in search_names_Korea_time_zone_CANON80D):\n",
    "                    date = datetime.strptime(value,\"%b %d %a ,%Y, %H:%M:%S\")  \n",
    "                    date=date+timedelta(hours=7)\n",
    "                    return date.strftime(\"%b %d %a ,%Y, %H:%M:%S\")\n",
    "                else:\n",
    "                    #always on summer time\n",
    "                    date = datetime.strptime(value,\"%b %d %a ,%Y, %H:%M:%S\")  \n",
    "                    return date.strftime(\"%b %d %a ,%Y, %H:%M:%S\")\n",
    "    except AttributeError:\n",
    "        return np.NaN"
   ]
  },
  {
   "cell_type": "code",
   "execution_count": 13,
   "metadata": {},
   "outputs": [
    {
     "ename": "AttributeError",
     "evalue": "module 'datetime' has no attribute 'now'",
     "output_type": "error",
     "traceback": [
      "\u001b[0;31m---------------------------------------------------------------------------\u001b[0m",
      "\u001b[0;31mAttributeError\u001b[0m                            Traceback (most recent call last)",
      "\u001b[0;32m<ipython-input-13-511e862d2721>\u001b[0m in \u001b[0;36m<module>\u001b[0;34m\u001b[0m\n\u001b[1;32m      5\u001b[0m \u001b[0mdataframe_list\u001b[0m\u001b[0;34m=\u001b[0m\u001b[0;34m[\u001b[0m\u001b[0;34m]\u001b[0m\u001b[0;34m\u001b[0m\u001b[0;34m\u001b[0m\u001b[0m\n\u001b[1;32m      6\u001b[0m \u001b[0;34m\u001b[0m\u001b[0m\n\u001b[0;32m----> 7\u001b[0;31m \u001b[0mdata_max\u001b[0m\u001b[0;34m=\u001b[0m\u001b[0mdatetime\u001b[0m\u001b[0;34m.\u001b[0m\u001b[0mnow\u001b[0m\u001b[0;34m(\u001b[0m\u001b[0;34m)\u001b[0m\u001b[0;34m\u001b[0m\u001b[0;34m\u001b[0m\u001b[0m\n\u001b[0m\u001b[1;32m      8\u001b[0m \u001b[0mdatamax\u001b[0m\u001b[0;34m=\u001b[0m\u001b[0mdata_max\u001b[0m\u001b[0;34m.\u001b[0m\u001b[0mstrftime\u001b[0m\u001b[0;34m(\u001b[0m\u001b[0;34m\"%b %d %a ,%Y, %H:%M:%S\"\u001b[0m\u001b[0;34m)\u001b[0m\u001b[0;34m\u001b[0m\u001b[0;34m\u001b[0m\u001b[0m\n\u001b[1;32m      9\u001b[0m \u001b[0mdata_min\u001b[0m\u001b[0;34m=\u001b[0m\u001b[0mdatetime\u001b[0m\u001b[0;34m.\u001b[0m\u001b[0mnow\u001b[0m\u001b[0;34m(\u001b[0m\u001b[0;34m)\u001b[0m\u001b[0;34m\u001b[0m\u001b[0;34m\u001b[0m\u001b[0m\n",
      "\u001b[0;31mAttributeError\u001b[0m: module 'datetime' has no attribute 'now'"
     ]
    }
   ],
   "source": [
    "import matplotlib.pyplot as plt\n",
    "import matplotlib.dates as mdates\n",
    "\n",
    "\n",
    "dataframe_list=[]\n",
    "\n",
    "data_max=datetime.now()\n",
    "datamax=data_max.strftime(\"%b %d %a ,%Y, %H:%M:%S\")\n",
    "data_min=datetime.now()\n",
    "datamin=data_min.strftime(\"%b %d %a ,%Y, %H:%M:%S\")\n",
    "\n",
    "#print(datamin,datamax)\n",
    "\n",
    "#push-back day related periods, 1 for day,2 for sunset,3 for dusk and daw,sunrise, 0 for night\n",
    "for input in range(2006,2020):\n",
    "    #print(\"get to year\",input)\n",
    "    df=pd.read_csv(\"outputEXIFcsvs/PhotoEXIFDataDayType_%s.csv\"%(str(input)))\n",
    "    #push back year index as additional list \n",
    "    #print(df.columns,df.head)\n",
    "    #print(df.dtypes)\n",
    "    df['SourceFile']=df['SourceFile'].apply(remove_full_path)    \n",
    "    df['FocalLength']=df['FocalLength'].apply(convert_mm) \n",
    "    df['ExposureTime']=df['ExposureTime'].apply(convert_exposure)\n",
    "    df['DateTimeOriginal']=df['DateTimeOriginal'].fillna('missing')\n",
    "    df['year']=int(input)\n",
    "    df['dayperiod']=df.apply(lambda x: funcDayPeriod(x['SourceFile']), axis=1)\n",
    "    df['CompositePhoto']=df.apply(lambda x: funcComposite(x['SourceFile']), axis=1)\n",
    "    df['Movie']=df.apply(lambda x: funcMovie(x['SourceFile']), axis=1)\n",
    "    df.rename(columns={'DateTimeOriginal':'Date','FocalLength':'FocalLength in mm'},inplace=True) \n",
    "    df['Date']=df.apply(lambda x: funcTimeZoneCorrection(x['Date'],x['SourceFile'],x['Model']), axis=1)\n",
    "    df['Date']=df['Date'].fillna('missing')\n",
    "    total_rows=df['SourceFile'].count()\n",
    "    if(input==2009 or input ==2010):\n",
    "        if input==2009:\n",
    "            test=df.loc[df['SourceFile'].str.contains(\"P7080022 - New York City\")]\n",
    "            #print(\"correction should start somewhere here\",test,\"index is\",test.index.values.astype(int)[0])\n",
    "            datamin=df.at[test.index.values.astype(int)[0],\"Date\"]   \n",
    "            df['Date']=df.apply(lambda y: funcTimeZoneCorrectionNYCBias(y['Date'],y['SourceFile'],y['Model'],datamin,datamax), axis=1)\n",
    "        elif input==2010:    \n",
    "            test=df.loc[df['SourceFile'].str.contains(\"P8270068 - Le Locle, unterirdische Muehlen\")]\n",
    "            #print(\"correction should end somewhere here\",test,\"index is\",test.index.values.astype(int)[0])\n",
    "            datamax=df.at[test.index.values.astype(int)[0],\"Date\"]   \n",
    "            df['Date']=df.apply(lambda y: funcTimeZoneCorrectionNYCBias(y['Date'],y['SourceFile'],y['Model'],datamin,datamax), axis=1)\n",
    "    df = df.replace(r'^\\s+$', np.nan, regex=True)\n",
    "    dataframe_list.append(df)\n",
    "    #df['Date']=df[df.Date!='missing']\n",
    "    #date_stripped=df[~df['Date'].str.contains(\"missing\")]\n",
    "    #print(\"rows per year\", input,total_rows)\n",
    "    #print(df.dtypes)\n",
    "    #df['Date'] = pd.to_datetime(date_stripped['Date'], format=\"%b %d %a ,%Y, %H:%M:%S\")\n",
    "   # fig = plt.figure(figsize = (10,6))\n",
    "    #ax = fig.add_subplot(111)\n",
    "\n",
    "    #ax.xaxis.set_major_formatter(mdates.DateFormatter('%b %d %a ,%Y, %H:%M:%S'))\n",
    "    #df[\"Date\"].plot(ax=ax, kind='bar')\n",
    "    #plt.plot(df['Date'])\n",
    "    #plt.show()\n",
    "    #hist = df.hist()\n",
    " \n",
    "combine_all_data=pd.DataFrame(dataframe_list[0]) \n",
    "#print(combine_all_data.head)\n",
    "#print(\"now for the rest\")\n",
    "dataframe_list.pop(0)\n",
    "for data in dataframe_list:\n",
    "    #print(data.head)\n",
    "    combine_all_data=pd.concat([combine_all_data,data],ignore_index=True,sort=False)\n",
    "    #print(combine_all_data.head)\n",
    "    \n",
    "combine_all_data.to_csv(r'EXIFDataCombinedCameras_2006_to_2019_DateLocalTime.csv')\n",
    "print(combine_all_data.head)"
   ]
  },
  {
   "cell_type": "code",
   "execution_count": null,
   "metadata": {},
   "outputs": [
    {
     "name": "stdout",
     "output_type": "stream",
     "text": [
      "<class 'pandas.core.frame.DataFrame'>\n",
      "Int64Index: 89582 entries, 0 to 91545\n",
      "Data columns (total 21 columns):\n",
      "Unnamed: 0             89582 non-null int64\n",
      "SourceFile             89582 non-null object\n",
      "Date                   89525 non-null datetime64[ns]\n",
      "FocalLength in mm      89582 non-null float64\n",
      "ExposureTime           89582 non-null float64\n",
      "Model                  89582 non-null object\n",
      "ISO                    89511 non-null float64\n",
      "Aperture               89582 non-null object\n",
      "LightValue             89511 non-null float64\n",
      "year                   89582 non-null int64\n",
      "dayperiod              89582 non-null int64\n",
      "CompositePhoto         89582 non-null int64\n",
      "Movie                  89582 non-null int64\n",
      "MeasuredEV             62244 non-null float64\n",
      "MeasuredRGGB           59521 non-null object\n",
      "WB_RGGBLevelsAsShot    59521 non-null object\n",
      "ColorTemperature       59779 non-null float64\n",
      "ColorTempDaylight      59521 non-null float64\n",
      "TimeZone               33576 non-null object\n",
      "DaylightSavings        33576 non-null object\n",
      "TimeZoneCity           33576 non-null object\n",
      "dtypes: datetime64[ns](1), float64(7), int64(5), object(8)\n",
      "memory usage: 15.0+ MB\n",
      "None\n",
      "2011-12-31\n",
      "       Unnamed: 0                                         SourceFile  \\\n",
      "0               0  /2006/060710 - London/P7100001 - Basel, Easyje...   \n",
      "1               1  /2006/060710 - London/P7100002 - London, Leice...   \n",
      "2               2  /2006/060710 - London/P7100003 - London, House...   \n",
      "3               3  /2006/060710 - London/P7100004 - London, Westm...   \n",
      "4               4  /2006/060710 - London/P7100005 - London, St. M...   \n",
      "...           ...                                                ...   \n",
      "91541       91541  /2019/190715 Bings Birthday/P7140010 - Genf, R...   \n",
      "91542       91542  /2019/190715 Bings Birthday/P7140011 - Ferney-...   \n",
      "91543       91543  /2019/190801 Schweizer Nationalfeiertag/P80100...   \n",
      "91544       91544  /2019/190801 Schweizer Nationalfeiertag/P80100...   \n",
      "91545       91545  /2019/190801 Schweizer Nationalfeiertag/P80100...   \n",
      "\n",
      "                     Date  FocalLength in mm  ExposureTime          Model  \\\n",
      "0     2006-07-10 11:36:06                6.3      0.001250        SP500UZ   \n",
      "1     2006-07-10 15:52:49                6.3      0.003125        SP500UZ   \n",
      "2     2006-07-10 16:17:26                6.3      0.001563        SP500UZ   \n",
      "3     2006-07-10 16:25:54                6.3      0.008000        SP500UZ   \n",
      "4     2006-07-10 16:26:16                6.3      0.001000        SP500UZ   \n",
      "...                   ...                ...           ...            ...   \n",
      "91541 2019-07-14 20:00:54               18.0      0.025000  Canon EOS 80D   \n",
      "91542 2019-07-14 22:37:51               18.0      0.033333  Canon EOS 80D   \n",
      "91543 2019-08-01 22:03:21               18.0      0.006250  Canon EOS 80D   \n",
      "91544 2019-08-01 22:03:38               18.0      0.040000  Canon EOS 80D   \n",
      "91545 2019-08-01 22:06:42               18.0      0.040000  Canon EOS 80D   \n",
      "\n",
      "          ISO Aperture  LightValue  year  ...  CompositePhoto  Movie  \\\n",
      "0        80.0      5.6        14.9  2006  ...               0      0   \n",
      "1        80.0        4        12.6  2006  ...               0      0   \n",
      "2        80.0        4        13.6  2006  ...               0      0   \n",
      "3        80.0        4        11.3  2006  ...               0      0   \n",
      "4        80.0        5        14.9  2006  ...               0      0   \n",
      "...       ...      ...         ...   ...  ...             ...    ...   \n",
      "91541   100.0      4.0         9.3  2019  ...               0      0   \n",
      "91542  1037.0      3.5         5.1  2019  ...               0      1   \n",
      "91543   100.0      3.5        10.9  2019  ...               0      1   \n",
      "91544  2075.0      3.5         3.9  2019  ...               0      1   \n",
      "91545  1600.0      3.5         4.3  2019  ...               0      1   \n",
      "\n",
      "       MeasuredEV       MeasuredRGGB  WB_RGGBLevelsAsShot ColorTemperature  \\\n",
      "0             NaN                NaN                  NaN              NaN   \n",
      "1             NaN                NaN                  NaN              NaN   \n",
      "2             NaN                NaN                  NaN              NaN   \n",
      "3             NaN                NaN                  NaN              NaN   \n",
      "4             NaN                NaN                  NaN              NaN   \n",
      "...           ...                ...                  ...              ...   \n",
      "91541        9.25  460 1024 1024 610  2123 1024 1024 1694           5300.0   \n",
      "91542        1.25                NaN                  NaN           5300.0   \n",
      "91543        7.00                NaN                  NaN           5300.0   \n",
      "91544       -0.12                NaN                  NaN           5300.0   \n",
      "91545        1.62                NaN                  NaN           5300.0   \n",
      "\n",
      "       ColorTempDaylight  TimeZone DaylightSavings TimeZoneCity  \n",
      "0                    NaN       NaN             NaN          NaN  \n",
      "1                    NaN       NaN             NaN          NaN  \n",
      "2                    NaN       NaN             NaN          NaN  \n",
      "3                    NaN       NaN             NaN          NaN  \n",
      "4                    NaN       NaN             NaN          NaN  \n",
      "...                  ...       ...             ...          ...  \n",
      "91541             5200.0    +02:00              On        Paris  \n",
      "91542                NaN    +02:00              On        Paris  \n",
      "91543                NaN    +02:00              On        Paris  \n",
      "91544                NaN    +02:00              On        Paris  \n",
      "91545                NaN    +02:00              On        Paris  \n",
      "\n",
      "[89582 rows x 21 columns]\n",
      "Unnamed: 0               int64\n",
      "SourceFile              object\n",
      "Date                    object\n",
      "FocalLength in mm      float64\n",
      "ExposureTime           float64\n",
      "Model                   object\n",
      "ISO                    float64\n",
      "Aperture                object\n",
      "LightValue             float64\n",
      "year                     int64\n",
      "dayperiod                int64\n",
      "CompositePhoto           int64\n",
      "Movie                    int64\n",
      "MeasuredEV             float64\n",
      "MeasuredRGGB            object\n",
      "WB_RGGBLevelsAsShot     object\n",
      "ColorTemperature       float64\n",
      "ColorTempDaylight      float64\n",
      "TimeZone                object\n",
      "DaylightSavings         object\n",
      "TimeZoneCity            object\n",
      "dtype: object\n",
      "<class 'pandas.core.frame.DataFrame'>\n",
      "Int64Index: 89582 entries, 0 to 91545\n",
      "Data columns (total 21 columns):\n",
      "Unnamed: 0             89582 non-null int64\n",
      "SourceFile             89582 non-null object\n",
      "Date                   89525 non-null datetime64[ns]\n",
      "FocalLength in mm      89582 non-null float64\n",
      "ExposureTime           89582 non-null float64\n",
      "Model                  89582 non-null object\n",
      "ISO                    89511 non-null float64\n",
      "Aperture               89582 non-null object\n",
      "LightValue             89511 non-null float64\n",
      "year                   89582 non-null int64\n",
      "dayperiod              89582 non-null int64\n",
      "CompositePhoto         89582 non-null int64\n",
      "Movie                  89582 non-null int64\n",
      "MeasuredEV             62244 non-null float64\n",
      "MeasuredRGGB           59521 non-null object\n",
      "WB_RGGBLevelsAsShot    59521 non-null object\n",
      "ColorTemperature       59779 non-null float64\n",
      "ColorTempDaylight      59521 non-null float64\n",
      "TimeZone               33576 non-null object\n",
      "DaylightSavings        33576 non-null object\n",
      "TimeZoneCity           33576 non-null object\n",
      "dtypes: datetime64[ns](1), float64(7), int64(5), object(8)\n",
      "memory usage: 15.0+ MB\n",
      "None\n"
     ]
    },
    {
     "name": "stderr",
     "output_type": "stream",
     "text": [
      "/usr/local/lib/python3.7/site-packages/ipykernel_launcher.py:50: RuntimeWarning: More than 20 figures have been opened. Figures created through the pyplot interface (`matplotlib.pyplot.figure`) are retained until explicitly closed and may consume too much memory. (To control this warning, see the rcParam `figure.max_open_warning`).\n"
     ]
    },
    {
     "data": {
      "image/png": "[encoded data removed]",
      "text/plain": [
       "<Figure size 432x288 with 1 Axes>"
      ]
     },
     "metadata": {
      "needs_background": "light"
     },
     "output_type": "display_data"
    },
    {
     "data": {
      "image/png": "[encoded data removed]",
      "text/plain": [
       "<Figure size 432x288 with 1 Axes>"
      ]
     },
     "metadata": {
      "needs_background": "light"
     },
     "output_type": "display_data"
    },
    {
     "data": {
      "image/png": "[encoded data removed]",
      "text/plain": [
       "<Figure size 432x288 with 1 Axes>"
      ]
     },
     "metadata": {
      "needs_background": "light"
     },
     "output_type": "display_data"
    },
    {
     "data": {
      "image/png": "[encoded data removed]",
      "text/plain": [
       "<Figure size 432x288 with 1 Axes>"
      ]
     },
     "metadata": {
      "needs_background": "light"
     },
     "output_type": "display_data"
    },
    {
     "data": {
      "image/png": "[encoded data removed]",
      "text/plain": [
       "<Figure size 432x288 with 1 Axes>"
      ]
     },
     "metadata": {
      "needs_background": "light"
     },
     "output_type": "display_data"
    },
    {
     "data": {
      "image/png": "[encoded data removed]",
      "text/plain": [
       "<Figure size 432x288 with 1 Axes>"
      ]
     },
     "metadata": {
      "needs_background": "light"
     },
     "output_type": "display_data"
    },
    {
     "data": {
      "image/png": "[encoded data removed]",
      "text/plain": [
       "<Figure size 432x288 with 1 Axes>"
      ]
     },
     "metadata": {
      "needs_background": "light"
     },
     "output_type": "display_data"
    },
    {
     "data": {
      "image/png": "[encoded data removed]",
      "text/plain": [
       "<Figure size 432x288 with 1 Axes>"
      ]
     },
     "metadata": {
      "needs_background": "light"
     },
     "output_type": "display_data"
    },
    {
     "data": {
      "image/png": "[encoded data removed]",
      "text/plain": [
       "<Figure size 432x288 with 1 Axes>"
      ]
     },
     "metadata": {
      "needs_background": "light"
     },
     "output_type": "display_data"
    },
    {
     "data": {
      "image/png": "[encoded data removed]",
      "text/plain": [
       "<Figure size 432x288 with 1 Axes>"
      ]
     },
     "metadata": {
      "needs_background": "light"
     },
     "output_type": "display_data"
    },
    {
     "data": {
      "image/png": "[encoded data removed]",
      "text/plain": [
       "<Figure size 432x288 with 1 Axes>"
      ]
     },
     "metadata": {
      "needs_background": "light"
     },
     "output_type": "display_data"
    },
    {
     "data": {
      "image/png": "[encoded data removed]",
      "text/plain": [
       "<Figure size 432x288 with 1 Axes>"
      ]
     },
     "metadata": {
      "needs_background": "light"
     },
     "output_type": "display_data"
    },
    {
     "data": {
      "image/png": "[encoded data removed]",
      "text/plain": [
       "<Figure size 432x288 with 1 Axes>"
      ]
     },
     "metadata": {
      "needs_background": "light"
     },
     "output_type": "display_data"
    },
    {
     "data": {
      "image/png": "[encoded data removed]",
      "text/plain": [
       "<Figure size 432x288 with 1 Axes>"
      ]
     },
     "metadata": {
      "needs_background": "light"
     },
     "output_type": "display_data"
    },
    {
     "data": {
      "image/png": "[encoded data removed]",
      "text/plain": [
       "<Figure size 432x288 with 1 Axes>"
      ]
     },
     "metadata": {
      "needs_background": "light"
     },
     "output_type": "display_data"
    },
    {
     "data": {
      "image/png": "[encoded data removed]",
      "text/plain": [
       "<Figure size 432x288 with 1 Axes>"
      ]
     },
     "metadata": {
      "needs_background": "light"
     },
     "output_type": "display_data"
    },
    {
     "data": {
      "image/png": "[encoded data removed]",
      "text/plain": [
       "<Figure size 432x288 with 1 Axes>"
      ]
     },
     "metadata": {
      "needs_background": "light"
     },
     "output_type": "display_data"
    }
   ],
   "source": [
    "import matplotlib.pyplot as plt\n",
    "import matplotlib.dates as mdates\n",
    "from math import log\n",
    "#import seaborn as sns\n",
    "\n",
    "\n",
    "dataframe_list=[]\n",
    "\n",
    "data_max=datetime.datetime.now()\n",
    "datamax=data_max.strftime(\"%b %d %a ,%Y, %H:%M:%S\")\n",
    "data_min=datetime.datetime.now()\n",
    "datamin=data_min.strftime(\"%b %d %a ,%Y, %H:%M:%S\")\n",
    "\n",
    "\n",
    "df=pd.read_csv(\"EXIFDataCombinedCameras_2006_to_2019_DateLocalTimeFinal.csv\")\n",
    "#df['Aperture']=df['Aperture'].\n",
    "df_new=df.dropna(axis=0, how='all', subset=['ISO','ExposureTime','LightValue'])\n",
    "df_new=df_new[df_new['Date']!='missing']\n",
    "df_new['Date']=pd.to_datetime(df_new['Date'],format='%b %d %a ,%Y, %H:%M:%S')\n",
    "#fails\n",
    "#df_new['Date']=pd.Timestamp(df_new['Date'],format='%b %d %a ,%Y, %H:%M:%S')\n",
    "d_low=datetime.date(2011, 12, 31)\n",
    "print(df_new.info())\n",
    "print(d_low)\n",
    "for year in range(2006,2019): \n",
    "    df_new_1=df_new[(df_new['year']==year)]\n",
    "    df_new_1.groupby(df_new_1[\"Date\"].dt.month).count().plot(kind=\"bar\",legend=None)\n",
    "    df_new_1.groupby(df_new_1[\"Date\"].dt.weekday).count().plot(kind=\"bar\",legend=None)\n",
    "    df_new_1.groupby(df_new_1[\"Date\"].dt.day).count().plot(kind=\"bar\",legend=None)\n",
    "    df_new_1.groupby(df_new_1[\"Date\"].dt.hour).count().plot(kind=\"bar\",legend=None)\n",
    "    df_new_1.groupby(df_new_1[\"Date\"].dt.minute).count().plot(kind=\"bar\",legend=None)\n",
    "#df_new.groupby(df_new[\"Date\"].dt).count().plot(kind=\"bar\",legend=None)\n",
    "#date_mask = (df_new['Date']>pd.Timestamp(2012,1,1,0)).all()\n",
    "#df_new_2=df_new[(df_new['Date']>'2018-01-01 0:00:00') & (df_new['Date']<'2019-01-01 0:00:00')]\n",
    "#df_new_2.groupby(df_new_2[\"Date\"].dt.month).count().plot(kind=\"bar\",legend=None)\n",
    "#df_new_2.groupby(df_new_2[\"Date\"].dt.weekday).count().plot(kind=\"bar\",legend=None)\n",
    "#df_new_2.groupby(df_new_2[\"Date\"].dt.day).count().plot(kind=\"bar\",legend=None)\n",
    "#df_new_2.groupby(df_new_2[\"Date\"].dt.hour).count().plot(kind=\"bar\",legend=None)\n",
    "#df_new_2.groupby(df_new_2[\"Date\"].dt.minute).count().plot(kind=\"bar\",legend=None)\n",
    "#df_new.groupby(df_new[\"Date\"].dt).count().plot(kind=\"bar\",legend=None)\n",
    "\n",
    "print(df_new)\n",
    "df_new.to_csv(r'test.csv')\n",
    "#at this point, iso, exposure,lightvalue and dates are all properly filled\n",
    "print(df.dtypes)\n",
    "print(df_new.info())\n",
    "#df_new.plot('ISO')\n",
    "#kwargs = dict(histtype='stepfilled', alpha=0.3, normed=True, bins=40)\n",
    "fig, axs = plt.subplots(3, 1, figsize=(5, 15), sharex=False, sharey=False,\n",
    "                        tight_layout=True)\n",
    "axs[0].hist(df_new['LightValue'], color=['red'],bins=100)\n",
    "axs[1].hist(df_new['ISO'], color=['green'],bins=100,range=(50,3650))\n",
    "#axs[2].hist(np.log(df_new['ExposureTime']), color=['orange'],bins=250,range=(-20,20))\n",
    "plt.show()"
   ]
  },
  {
   "cell_type": "code",
   "execution_count": null,
   "metadata": {},
   "outputs": [],
   "source": []
  }
 ],
 "metadata": {
  "kernelspec": {
   "display_name": "Python 3",
   "language": "python",
   "name": "python3"
  },
  "language_info": {
   "codemirror_mode": {
    "name": "ipython",
    "version": 3
   },
   "file_extension": ".py",
   "mimetype": "text/x-python",
   "name": "python",
   "nbconvert_exporter": "python",
   "pygments_lexer": "ipython3",
   "version": "3.7.4"
  }
 },
 "nbformat": 4,
 "nbformat_minor": 2
}
