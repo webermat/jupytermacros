{
 "cells": [
  {
   "cell_type": "code",
   "execution_count": 35,
   "metadata": {},
   "outputs": [],
   "source": [
    "import xgboost as xgb\n",
    "from sklearn.metrics import mean_squared_error\n",
    "from sklearn.model_selection import train_test_split\n",
    "from sklearn.metrics import accuracy_score\n",
    "import pandas as pd\n",
    "import numpy as np\n",
    "import math \n",
    "from sklearn.metrics import accuracy_score\n",
    "import matplotlib.pyplot as plt"
   ]
  },
  {
   "cell_type": "code",
   "execution_count": 36,
   "metadata": {},
   "outputs": [],
   "source": [
    "df_attributes=pd.read_csv(\"datasets/RunningShoes_Challenge/data/runner_attributes.csv\")\n",
    "df_time=pd.read_csv(\"datasets/RunningShoes_Challenge/data/marathon_times.csv\")\n",
    "#checked for dimension, checked what we see in duplicates"
   ]
  },
  {
   "cell_type": "code",
   "execution_count": 39,
   "metadata": {},
   "outputs": [
    {
     "name": "stdout",
     "output_type": "stream",
     "text": [
      "30373\n",
      "ageClass     int64\n",
      "sex          int64\n",
      "treatment    int64\n",
      "dtype: object\n",
      "       ageClass  sex  treatment\n",
      "0            20    0          1\n",
      "1            20    0          1\n",
      "2            20    0          0\n",
      "3            30    0          0\n",
      "4            30    0          1\n",
      "...         ...  ...        ...\n",
      "30368        20    0          1\n",
      "30369        45    0          1\n",
      "30370        60    0          0\n",
      "30371        80    0          0\n",
      "30372        75    0          1\n",
      "\n",
      "[30373 rows x 3 columns]\n",
      "0         7661\n",
      "1         7737\n",
      "2         7747\n",
      "3         7750\n",
      "4         8163\n",
      "         ...  \n",
      "30368    24513\n",
      "30369    24460\n",
      "30370    24934\n",
      "30371    24952\n",
      "30372    24370\n",
      "Name: netTime, Length: 30373, dtype: int64\n",
      "[1. 1. 1. ... 1. 1. 1.]\n"
     ]
    },
    {
     "ename": "TypeError",
     "evalue": "'float' object is not callable",
     "output_type": "error",
     "traceback": [
      "\u001b[0;31m---------------------------------------------------------------------------\u001b[0m",
      "\u001b[0;31mTypeError\u001b[0m                                 Traceback (most recent call last)",
      "\u001b[0;32m<ipython-input-39-ef3b20615cb2>\u001b[0m in \u001b[0;36m<module>\u001b[0;34m\u001b[0m\n\u001b[1;32m     22\u001b[0m \u001b[0mprint\u001b[0m\u001b[0;34m(\u001b[0m\u001b[0my_polm80_total\u001b[0m\u001b[0;34m)\u001b[0m\u001b[0;34m\u001b[0m\u001b[0;34m\u001b[0m\u001b[0m\n\u001b[1;32m     23\u001b[0m \u001b[0mtrain_test_split\u001b[0m \u001b[0;34m=\u001b[0m \u001b[0;36m0.25\u001b[0m\u001b[0;34m\u001b[0m\u001b[0;34m\u001b[0m\u001b[0m\n\u001b[0;32m---> 24\u001b[0;31m \u001b[0mX_train\u001b[0m\u001b[0;34m,\u001b[0m \u001b[0mX_test\u001b[0m\u001b[0;34m,\u001b[0m \u001b[0my_train\u001b[0m\u001b[0;34m,\u001b[0m \u001b[0my_test\u001b[0m \u001b[0;34m=\u001b[0m \u001b[0mtrain_test_split\u001b[0m\u001b[0;34m(\u001b[0m\u001b[0mX_polm80_total\u001b[0m\u001b[0;34m,\u001b[0m\u001b[0my_polm80_total\u001b[0m\u001b[0;34m,\u001b[0m \u001b[0mtest_size\u001b[0m\u001b[0;34m=\u001b[0m\u001b[0mtrain_test_split\u001b[0m\u001b[0;34m)\u001b[0m\u001b[0;34m\u001b[0m\u001b[0;34m\u001b[0m\u001b[0m\n\u001b[0m",
      "\u001b[0;31mTypeError\u001b[0m: 'float' object is not callable"
     ]
    }
   ],
   "source": [
    "df_target=pd.read_csv(\"datasets/RunningShoes_Challenge/data/marathon_times.csv\")\n",
    "print(df_target.shape[0])\n",
    "df_variables=pd.read_csv(\"datasets/RunningShoes_Challenge/data/runner_attributes.csv\")\n",
    "#time_values=df_merged_time.pop('netTime').values\n",
    "#print(time_values)\n",
    "df_variables=df_variables.truncate(after=(df_target.shape[0]-1))\n",
    "#drop all columns above the target values\n",
    "#df_variables=df_variables.drop(df_variables.index[range((index_low+1), index_high)],axis=0,  inplace=True)\n",
    "df_time_values=df_target['netTime']\n",
    "df_variables.treatment.replace(['Treatment', 'Control'], [1, 0], inplace=True)\n",
    "df_variables.ageClass.replace(['U20'], [15], inplace=True)\n",
    "df_variables['ageClass']=df_variables['ageClass'].astype(int)\n",
    "df_variables.sex.replace(['M', 'W'], [0, 1], inplace=True)\n",
    "df_X_input=df_variables[['ageClass','sex','treatment','nationality']]\n",
    "df_variables=df_variables.drop([\"unique_id\"],axis=1)\n",
    "#df_X_input_v2=df_variables[['ageClass','sex','treatment']]\n",
    "print(df_X_input_v2.dtypes)\n",
    "print(df_X_input_v2)\n",
    "print(df_time_values)\n",
    "#X_polm80_total=np.ones(df_target.shape[0])\n",
    "#y_polm80_total=np.ones(df_target.shape[0])\n",
    "print(y_polm80_total)\n",
    "train_test_split = 0.25\n",
    "train,test = train_test_split(df,test_size = 0.2,random_state=42)"
   ]
  },
  {
   "cell_type": "code",
   "execution_count": null,
   "metadata": {},
   "outputs": [],
   "source": [
    "XGB_Model_polm80_sklearn =xgb.XGBRegressor()"
   ]
  }
 ],
 "metadata": {
  "kernelspec": {
   "display_name": "Python 3",
   "language": "python",
   "name": "python3"
  },
  "language_info": {
   "codemirror_mode": {
    "name": "ipython",
    "version": 3
   },
   "file_extension": ".py",
   "mimetype": "text/x-python",
   "name": "python",
   "nbconvert_exporter": "python",
   "pygments_lexer": "ipython3",
   "version": "3.7.4"
  }
 },
 "nbformat": 4,
 "nbformat_minor": 2
}
